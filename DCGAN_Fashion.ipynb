{
  "nbformat": 4,
  "nbformat_minor": 0,
  "metadata": {
    "colab": {
      "name": "DeepConvolutionalGan(DCGAN).ipynb",
      "provenance": [],
      "collapsed_sections": [],
      "machine_shape": "hm",
      "authorship_tag": "ABX9TyPXIUi9SYtd+PKWyz/JB3jD",
      "include_colab_link": true
    },
    "kernelspec": {
      "name": "python3",
      "display_name": "Python 3"
    },
    "language_info": {
      "name": "python"
    },
    "accelerator": "GPU"
  },
  "cells": [
    {
      "cell_type": "markdown",
      "metadata": {
        "id": "view-in-github",
        "colab_type": "text"
      },
      "source": [
        "<a href=\"https://colab.research.google.com/github/aCStandke/GAN_Models/blob/main/DeepConvolutionalGan(DCGAN).ipynb\" target=\"_parent\"><img src=\"https://colab.research.google.com/assets/colab-badge.svg\" alt=\"Open In Colab\"/></a>"
      ]
    },
    {
      "cell_type": "markdown",
      "source": [
        "# Deep Convolutional GAN (DCGAN)\n",
        "\n",
        "Implementation of the Deep Convolutional GAN as detailed in Unsurpervised Representation Learning with Deep Convolutional Generative Adversaial Networks, [DCGAN](https://arxiv.rg/abs/15511.06434) and detailed in page 196 of the book Advanced Deep Learning with Python \n",
        "\n"
      ],
      "metadata": {
        "id": "3yfjd1u52iJU"
      }
    },
    {
      "cell_type": "code",
      "execution_count": 1,
      "metadata": {
        "id": "Gs22OI-P18CV"
      },
      "outputs": [],
      "source": [
        "import matplotlib.pyplot as plt\n",
        "import numpy as np\n",
        "import glob\n",
        "import os\n",
        "import PIL\n",
        "import time\n",
        "from IPython import display\n",
        "from keras.datasets import fashion_mnist\n",
        "from keras.layers import Conv2D, Conv2DTranspose, BatchNormalization, Dropout, Input, Dense, Reshape, Flatten\n",
        "from keras.layers import LeakyReLU\n",
        "from keras.models import Sequential, Model\n",
        "from keras.optimizers import adam_v2\n",
        "import keras\n",
        "import imageio\n",
        "import tensorflow as tf"
      ]
    },
    {
      "cell_type": "markdown",
      "source": [
        "# Load and prepare the dataset"
      ],
      "metadata": {
        "id": "b2dVkeI1lovZ"
      }
    },
    {
      "cell_type": "code",
      "source": [
        "(train_images, train_labels), (_,_) = fashion_mnist.load_data()\n",
        " # Rescale in [-1,1] interval\n",
        "train_images = train_images.reshape(train_images.shape[0], 28, 28, 1).astype('float32')\n",
        "train_images = (train_images-127.5)/127.5\n",
        "BUFFER_SIZE = 60000\n",
        "BATCH_SIZE = 100\n",
        "# Batch and shuffle the data\n",
        "train_dataset = tf.data.Dataset.from_tensor_slices(train_images).shuffle(BUFFER_SIZE).batch(BATCH_SIZE)"
      ],
      "metadata": {
        "id": "liBhtNWwldBF"
      },
      "execution_count": 2,
      "outputs": []
    },
    {
      "cell_type": "markdown",
      "source": [
        "# Globals relating to latent dimension, weight initialization and channels"
      ],
      "metadata": {
        "id": "rY5Sxnl3nkCT"
      }
    },
    {
      "cell_type": "code",
      "source": [
        "# latent dimension of the random noise\n",
        "latent_dim = 100\n",
        "# weight initializer for generator per DCGAN paper\n",
        "WEIGHT_INIT = keras.initializers.RandomNormal(mean=0.0, stddev=0.02)\n",
        "# number of channels, 1 for gray scale and 3 for color images\n",
        "CHANNELS = 1"
      ],
      "metadata": {
        "id": "8gKtzeY4ni3Z"
      },
      "execution_count": 3,
      "outputs": []
    },
    {
      "cell_type": "markdown",
      "source": [
        "# Generator\n"
      ],
      "metadata": {
        "id": "DO3VDbykG7zE"
      }
    },
    {
      "cell_type": "code",
      "source": [
        "# function that builds the generator\n",
        "def build_generator(latent_input, weight_initialization, channel):\n",
        "  model = Sequential(name='generator')\n",
        "  # first fully connected layer to take in 1D latent vector/tensor z\n",
        "  # and output a 1D tensor of size 12,544\n",
        "  model.add(keras.layers.Dense(7*7*256, input_shape=(latent_input,)))\n",
        "  # applies a transformation that maintains the mean output close to 0 and the output standard deviation close to 1\n",
        "  # stabilizes training after the conv layer and before the activation function\n",
        "  model.add(keras.layers.BatchNormalization())\n",
        "  # activation function\n",
        "  model.add(keras.layers.ReLU())\n",
        "  # reshape previous layer into a 3D tensor \n",
        "  model.add(keras.layers.Reshape((7, 7, 256)))\n",
        "  # first layer of upsampeling(i.e. deconvolution) of the 3D tensor to output a 7x7 feature map as determined by the stride  \n",
        "  model.add(keras.layers.Conv2DTranspose(filters=128, kernel_size=(5,5), strides=(1,1), padding='same', kernel_initializer=weight_initialization))\n",
        "  model.add(keras.layers.BatchNormalization()) \n",
        "  model.add(keras.layers.ReLU()) \n",
        "  # second layer of upsampeling(i.e. deconvolution) in which the volume depth is reduced to 64 \n",
        "  # and outputs a feature map of size 14x14 as determined by the stride\n",
        "  model.add(keras.layers.Conv2DTranspose(filters=64, kernel_size=(5,5), strides=(2,2), padding='same', kernel_initializer=weight_initialization)) \n",
        "  model.add(keras.layers.BatchNormalization())\n",
        "  model.add(keras.layers.ReLU()) \n",
        "  # third layer upsampeling(i.e. deconvolution) in which the volume depth is reduced to 1 and the image is output as 28x28x1\n",
        "  model.add(keras.layers.Conv2DTranspose(filters=channel, kernel_size=(5,5), strides=(2,2), padding='same', activation='tanh'))\n",
        "  return model"
      ],
      "metadata": {
        "id": "ymvL5uTZG5FT"
      },
      "execution_count": 4,
      "outputs": []
    },
    {
      "cell_type": "code",
      "source": [
        "generator = build_generator(latent_dim, WEIGHT_INIT, CHANNELS)\n",
        "noise = tf.random.normal([1, 100], 0, 15)\n",
        "generated_image = generator(noise, training=False)\n",
        "plt.imshow(generated_image[0,:,:,0], cmap='gray')"
      ],
      "metadata": {
        "colab": {
          "base_uri": "https://localhost:8080/",
          "height": 282
        },
        "id": "x6-et0O8nX-_",
        "outputId": "1921db72-612e-46df-c986-0196d2da5d33"
      },
      "execution_count": 5,
      "outputs": [
        {
          "output_type": "execute_result",
          "data": {
            "text/plain": [
              "<matplotlib.image.AxesImage at 0x7f7b50038610>"
            ]
          },
          "metadata": {},
          "execution_count": 5
        },
        {
          "output_type": "display_data",
          "data": {
            "text/plain": [
              "<Figure size 432x288 with 1 Axes>"
            ],
            "image/png": "[encoded data removed]"
          },
          "metadata": {
            "needs_background": "light"
          }
        }
      ]
    },
    {
      "cell_type": "markdown",
      "source": [
        "# Discriminator"
      ],
      "metadata": {
        "id": "QOalxX9NfxtB"
      }
    },
    {
      "cell_type": "code",
      "source": [
        "def build_discriminator(width, height, depth, alpha=0.2):\n",
        "  model = Sequential(name='discriminator')\n",
        "  input_shape = (height, width, depth)\n",
        "  # first layer of discriminator network that downsamples image to 14x14 as determined by stride and \n",
        "  # increases depth by 64\n",
        "  model.add(keras.layers.Conv2D(filters=64, kernel_size=(5, 5), strides=(2,2), padding='same', input_shape = input_shape))\n",
        "  model.add(keras.layers.BatchNormalization())\n",
        "  model.add(keras.layers.LeakyReLU(alpha=alpha))\n",
        "  # second layer of discriminator network that downsamples image to 7x7 and increaes depth to 128\n",
        "  model.add(keras.layers.Conv2D(filters=128, kernel_size=(5, 5), strides=(2,2), padding='same'))\n",
        "  model.add(keras.layers.BatchNormalization())\n",
        "  model.add(keras.layers.LeakyReLU(alpha=alpha))\n",
        "  # flatten 3D tensor to 1D tensor of size 7*7*128 = 6727\n",
        "  model.add(keras.layers.Flatten()) \n",
        "  # apply dropout of 30% before feeding it to the dense layer\n",
        "  model.add(keras.layers.Dropout(0.3))\n",
        "  model.add(keras.layers.Dense(1, activation='sigmoid')) \n",
        "  return model                \n",
        "  "
      ],
      "metadata": {
        "id": "9fY-P644fwwe"
      },
      "execution_count": 6,
      "outputs": []
    },
    {
      "cell_type": "code",
      "source": [
        "discriminator = build_discriminator(28, 28, 1)\n",
        "decision = discriminator(generated_image)\n",
        "print(decision)"
      ],
      "metadata": {
        "colab": {
          "base_uri": "https://localhost:8080/"
        },
        "id": "n7anL4aGqW8V",
        "outputId": "0e06bc2f-636f-4cf5-a66c-f97008ad9ce8"
      },
      "execution_count": 7,
      "outputs": [
        {
          "output_type": "stream",
          "name": "stdout",
          "text": [
            "tf.Tensor([[0.49180904]], shape=(1, 1), dtype=float32)\n"
          ]
        }
      ]
    },
    {
      "cell_type": "markdown",
      "source": [
        "# Binary Cross Entropy"
      ],
      "metadata": {
        "id": "UvG-Qg6IlJrr"
      }
    },
    {
      "cell_type": "code",
      "source": [
        "# use this method to compute the binary crossentopy loss\n",
        "binary_crossEntropy = keras.losses.BinaryCrossentropy()"
      ],
      "metadata": {
        "id": "sxpXpjTEge5x"
      },
      "execution_count": 8,
      "outputs": []
    },
    {
      "cell_type": "markdown",
      "source": [
        "# Discriminator Loss"
      ],
      "metadata": {
        "id": "6lMS3H4jhPM1"
      }
    },
    {
      "cell_type": "code",
      "source": [
        "def discriminator_loss(real_output, fake_output):\n",
        "  # discriminator loss on real images\n",
        "  real_loss = binary_crossEntropy(tf.ones_like(real_output), real_output)\n",
        "  # discriminator loss on fake images\n",
        "  fake_loss = binary_crossEntropy(tf.zeros_like(fake_output), fake_output)\n",
        "  # discriminator total loss\n",
        "  total_loss = real_loss + fake_loss\n",
        "  return total_loss"
      ],
      "metadata": {
        "id": "QskAXKyNg-yj"
      },
      "execution_count": 9,
      "outputs": []
    },
    {
      "cell_type": "markdown",
      "source": [
        "# Generator Loss"
      ],
      "metadata": {
        "id": "a-q7Gx6ZibCF"
      }
    },
    {
      "cell_type": "code",
      "source": [
        "def generator_loss(fake_output):\n",
        "  return binary_crossEntropy(tf.ones_like(fake_output), fake_output)"
      ],
      "metadata": {
        "id": "qhW46E7IiY3J"
      },
      "execution_count": 10,
      "outputs": []
    },
    {
      "cell_type": "markdown",
      "source": [
        "# Different Optimizers for Generator and Discriminator"
      ],
      "metadata": {
        "id": "RdD7PyMbjYkJ"
      }
    },
    {
      "cell_type": "code",
      "source": [
        "generator_optimizer = keras.optimizers.adam_v2.Adam(learning_rate=1e-4)\n",
        "discriminator_optimizer = keras.optimizers.adam_v2.Adam(learning_rate=1e-4)"
      ],
      "metadata": {
        "id": "rmoM2xCLjX1V"
      },
      "execution_count": 11,
      "outputs": []
    },
    {
      "cell_type": "markdown",
      "source": [
        "# Train Function"
      ],
      "metadata": {
        "id": "NMrS-ueUqYoZ"
      }
    },
    {
      "cell_type": "code",
      "source": [
        "EPOCS = 50\n",
        "noise_dim = 100\n",
        "num_examples_to_generate = 16\n",
        "\n",
        "# seed value \n",
        "seed = tf.random.normal([num_examples_to_generate, noise_dim])\n"
      ],
      "metadata": {
        "id": "i4wDIgoxsNf8"
      },
      "execution_count": 12,
      "outputs": []
    },
    {
      "cell_type": "code",
      "source": [
        "# annotation creates and compiles a tensorflow graph from the function\n",
        "@tf.function\n",
        "def train_step(images):\n",
        "  noise = tf.random.normal([BATCH_SIZE, noise_dim])\n",
        "\n",
        "  with tf.GradientTape() as gen_tape, tf.GradientTape() as disc_tape:\n",
        "    generated_images = generator(noise, training=True)\n",
        "\n",
        "    real_output = discriminator(images, training=True)\n",
        "    fake_output = discriminator(generated_images, training=True)\n",
        "    \n",
        "    gen_loss = generator_loss(fake_output)\n",
        "    disc_loss = discriminator_loss(real_output, fake_output)\n",
        "  \n",
        "  # generate the gradients for the geneartor and discriminator with respect to the weights\n",
        "  gradients_of_generator = gen_tape.gradient(gen_loss, generator.trainable_variables)\n",
        "  gradients_of_discriminator = disc_tape.gradient(disc_loss, discriminator.trainable_variables)\n",
        "\n",
        "  # backpropogate the gradients and perform gradient descent using Adam on the weights\n",
        "  generator_optimizer.apply_gradients(zip(gradients_of_generator, generator.trainable_variables))\n",
        "  discriminator_optimizer.apply_gradients(zip(gradients_of_discriminator, discriminator.trainable_variables))\n"
      ],
      "metadata": {
        "id": "xse7y_EFszDX"
      },
      "execution_count": 13,
      "outputs": []
    },
    {
      "cell_type": "code",
      "source": [
        "def train(dataset, epochs):\n",
        "  for epoch in range(epochs):\n",
        "    start = time.time()\n",
        "\n",
        "    for image_batch in dataset:\n",
        "      train_step(image_batch)\n",
        "    \n",
        "    # Produce images for the GIF as you go\n",
        "    display.clear_output(wait=True)\n",
        "    generate_and_save_images(generator,\n",
        "                             epoch + 1,\n",
        "                             seed)\n",
        "    print('Time for epoch {} is {} sec'.format(epoch + 1, time.time()-start))\n",
        "\n",
        "  # Generate after the final epoch\n",
        "  display.clear_output(wait=True)\n",
        "  generate_and_save_images(generator,\n",
        "                           epochs,\n",
        "                           seed)"
      ],
      "metadata": {
        "id": "HEoI5Z4avBtU"
      },
      "execution_count": 14,
      "outputs": []
    },
    {
      "cell_type": "markdown",
      "source": [
        "# Plot Generated Images"
      ],
      "metadata": {
        "id": "qVghG2FZuCoi"
      }
    },
    {
      "cell_type": "code",
      "source": [
        "def generate_and_save_images(model, epoch, test_input):\n",
        "  # Notice `training` is set to False.\n",
        "  # This is so all layers run in inference mode (batchnorm).\n",
        "  predictions = model(test_input, training=False)\n",
        "\n",
        "  fig = plt.figure(figsize=(4, 4))\n",
        "\n",
        "  for i in range(predictions.shape[0]):\n",
        "      plt.subplot(4, 4, i+1)\n",
        "      plt.imshow(predictions[i, :, :, 0] * 127.5 + 127.5, cmap='gray')\n",
        "      plt.axis('off')\n",
        "\n",
        "  plt.savefig('image_at_epoch_{:04d}.png'.format(epoch))\n",
        "  plt.show()"
      ],
      "metadata": {
        "id": "KlIU-xW3uA4I"
      },
      "execution_count": 15,
      "outputs": []
    },
    {
      "cell_type": "markdown",
      "source": [
        "# Train Model"
      ],
      "metadata": {
        "id": "Z6Ni9LlavShY"
      }
    },
    {
      "cell_type": "code",
      "source": [
        "train(train_dataset, EPOCS)"
      ],
      "metadata": {
        "colab": {
          "base_uri": "https://localhost:8080/",
          "height": 248
        },
        "id": "4_ZFnAmrvQ48",
        "outputId": "ddc26804-f28f-4f43-ac65-573011aa6413"
      },
      "execution_count": 16,
      "outputs": [
        {
          "output_type": "display_data",
          "data": {
            "text/plain": [
              "<Figure size 288x288 with 16 Axes>"
            ],
            "image/png": "[encoded data removed]"
          },
          "metadata": {
            "needs_background": "light"
          }
        }
      ]
    }
  ]
}
