{
  "cells": [
    {
      "cell_type": "markdown",
      "metadata": {
        "id": "view-in-github",
        "colab_type": "text"
      },
      "source": [
        "<a href=\"https://colab.research.google.com/github/aCStandke/GAN_Models/blob/main/DCGAN_on_Face.ipynb\" target=\"_parent\"><img src=\"https://colab.research.google.com/assets/colab-badge.svg\" alt=\"Open In Colab\"/></a>"
      ]
    },
    {
      "cell_type": "code",
      "execution_count": 22,
      "metadata": {
        "id": "Gs22OI-P18CV"
      },
      "outputs": [],
      "source": [
        "import matplotlib.pyplot as plt\n",
        "import matplotlib.animation as animation\n",
        "import numpy as np\n",
        "import os\n",
        "import random\n",
        "from IPython.display import HTML\n",
        "from keras.datasets import fashion_mnist\n",
        "from keras.layers import Conv2D, Conv2DTranspose, BatchNormalization, Dropout, Input, Dense, Reshape, Flatten\n",
        "from keras.layers import LeakyReLU\n",
        "from keras.models import Sequential, Model\n",
        "from keras.optimizers import adam_v2\n",
        "import keras\n",
        "import tensorflow as tf"
      ]
    },
    {
      "cell_type": "code",
      "source": [
        "!mv /content/drive/MyDrive/Kaggle/kaggle.json /root/.kaggle/\n",
        "!kaggle datasets download zuozhaorui/celeba\n",
        "!unzip celeba.zip"
      ],
      "metadata": {
        "colab": {
          "base_uri": "https://localhost:8080/"
        },
        "id": "_By4avte961e",
        "outputId": "0d55d1a6-567c-4721-fb53-e18b7dbd6f85"
      },
      "execution_count": 2,
      "outputs": [
        {
          "output_type": "stream",
          "name": "stdout",
          "text": [
            "Downloading celeba.zip to /content\n",
            "100% 2.64G/2.64G [00:32<00:00, 109MB/s] \n",
            "100% 2.64G/2.64G [00:32<00:00, 87.6MB/s]\n"
          ]
        }
      ]
    },
    {
      "cell_type": "code",
      "source": [
        "dataroot = \"/content/img_align_celeba/\"\n",
        "train_ds = tf.keras.utils.image_dataset_from_directory(dataroot, shuffle=True, batch_size=128, image_size=(64, 64))\n",
        "normalization_layer = tf.keras.layers.Rescaling(1./255)\n",
        "normalized_ds = train_ds.map(lambda x, y: (normalization_layer(x), y))"
      ],
      "metadata": {
        "id": "iZDjfPWuOk-u",
        "colab": {
          "base_uri": "https://localhost:8080/"
        },
        "outputId": "26739803-f100-4ea2-9c0f-07da970b3c60"
      },
      "execution_count": 17,
      "outputs": [
        {
          "output_type": "stream",
          "name": "stdout",
          "text": [
            "Found 202599 files belonging to 1 classes.\n"
          ]
        }
      ]
    },
    {
      "cell_type": "markdown",
      "metadata": {
        "id": "rY5Sxnl3nkCT"
      },
      "source": [
        "# Globals relating to latent dimension, weight initialization and channels"
      ]
    },
    {
      "cell_type": "code",
      "execution_count": null,
      "metadata": {
        "id": "8gKtzeY4ni3Z"
      },
      "outputs": [],
      "source": [
        "# latent dimension of the random noise\n",
        "latent_dim = 100\n",
        "# weight initializer for generator per DCGAN paper\n",
        "WEIGHT_INIT = keras.initializers.RandomNormal(mean=0.0, stddev=0.02)\n",
        "# number of channels, 1 for gray scale and 3 for color images\n",
        "CHANNELS = 3\n",
        "BATCH_SIZE = 128\n",
        "image_size = 64"
      ]
    },
    {
      "cell_type": "markdown",
      "metadata": {
        "id": "DO3VDbykG7zE"
      },
      "source": [
        "# Generator\n"
      ]
    },
    {
      "cell_type": "code",
      "execution_count": null,
      "metadata": {
        "id": "ymvL5uTZG5FT"
      },
      "outputs": [],
      "source": [
        "# function that builds the generator\n",
        "def build_generator(latent_input, weight_initialization, channel):\n",
        "  model = Sequential(name='generator')\n",
        "  # first fully connected layer to take in 1D latent vector/tensor z\n",
        "  # and output a 1D tensor of size 12,544\n",
        "  model.add(keras.layers.Dense(7*7*256, input_shape=(latent_input,)))\n",
        "  # applies a transformation that maintains the mean output close to 0 and the output standard deviation close to 1\n",
        "  # stabilizes training after the conv layer and before the activation function\n",
        "  model.add(keras.layers.BatchNormalization())\n",
        "  # activation function\n",
        "  model.add(keras.layers.ReLU())\n",
        "  # reshape previous layer into a 3D tensor \n",
        "  model.add(keras.layers.Reshape((7, 7, 256)))\n",
        "  # first layer of upsampeling(i.e. deconvolution) of the 3D tensor to output a 7x7 feature map as determined by the stride  \n",
        "  model.add(keras.layers.Conv2DTranspose(filters=128, kernel_size=(5,5), strides=(1,1), padding='same', kernel_initializer=weight_initialization))\n",
        "  model.add(keras.layers.BatchNormalization()) \n",
        "  model.add(keras.layers.ReLU()) \n",
        "  # second layer of upsampeling(i.e. deconvolution) in which the volume depth is reduced to 64 \n",
        "  # and outputs a feature map of size 14x14 as determined by the stride\n",
        "  model.add(keras.layers.Conv2DTranspose(filters=64, kernel_size=(5,5), strides=(2,2), padding='same', kernel_initializer=weight_initialization)) \n",
        "  model.add(keras.layers.BatchNormalization())\n",
        "  model.add(keras.layers.ReLU()) \n",
        "  # third layer upsampeling(i.e. deconvolution) in which the volume depth is reduced to 1 and the image is output as 28x28x1\n",
        "  model.add(keras.layers.Conv2DTranspose(filters=channel, kernel_size=(5,5), strides=(2,2), padding='same', activation='tanh'))\n",
        "  return model"
      ]
    },
    {
      "cell_type": "markdown",
      "metadata": {
        "id": "QOalxX9NfxtB"
      },
      "source": [
        "# Discriminator"
      ]
    },
    {
      "cell_type": "code",
      "execution_count": null,
      "metadata": {
        "id": "9fY-P644fwwe"
      },
      "outputs": [],
      "source": [
        "def build_discriminator(width, height, depth, alpha=0.2):\n",
        "  model = Sequential(name='discriminator')\n",
        "  input_shape = (height, width, depth)\n",
        "  # first layer of discriminator network that downsamples image to 14x14 as determined by stride and \n",
        "  # increases depth by 64\n",
        "  model.add(keras.layers.Conv2D(filters=64, kernel_size=(5, 5), strides=(2,2), padding='same', input_shape = input_shape))\n",
        "  model.add(keras.layers.BatchNormalization())\n",
        "  model.add(keras.layers.LeakyReLU(alpha=alpha))\n",
        "  # second layer of discriminator network that downsamples image to 7x7 and increaes depth to 128\n",
        "  model.add(keras.layers.Conv2D(filters=128, kernel_size=(5, 5), strides=(2,2), padding='same'))\n",
        "  model.add(keras.layers.BatchNormalization())\n",
        "  model.add(keras.layers.LeakyReLU(alpha=alpha))\n",
        "  # flatten 3D tensor to 1D tensor of size 7*7*128 = 6727\n",
        "  model.add(keras.layers.Flatten()) \n",
        "  # apply dropout of 30% before feeding it to the dense layer\n",
        "  model.add(keras.layers.Dropout(0.3))\n",
        "  model.add(keras.layers.Dense(1, activation='sigmoid')) \n",
        "  return model                \n",
        "  "
      ]
    },
    {
      "cell_type": "markdown",
      "metadata": {
        "id": "UvG-Qg6IlJrr"
      },
      "source": [
        "# Binary Cross Entropy"
      ]
    },
    {
      "cell_type": "code",
      "execution_count": null,
      "metadata": {
        "id": "sxpXpjTEge5x"
      },
      "outputs": [],
      "source": [
        "# use this method to compute the binary crossentopy loss\n",
        "binary_crossEntropy = keras.losses.BinaryCrossentropy()"
      ]
    },
    {
      "cell_type": "markdown",
      "metadata": {
        "id": "6lMS3H4jhPM1"
      },
      "source": [
        "# Discriminator Loss"
      ]
    },
    {
      "cell_type": "code",
      "execution_count": null,
      "metadata": {
        "id": "QskAXKyNg-yj"
      },
      "outputs": [],
      "source": [
        "def discriminator_loss(real_output, fake_output):\n",
        "  # discriminator loss on real images\n",
        "  real_loss = binary_crossEntropy(tf.ones_like(real_output), real_output)\n",
        "  # discriminator loss on fake images\n",
        "  fake_loss = binary_crossEntropy(tf.zeros_like(fake_output), fake_output)\n",
        "  # discriminator total loss\n",
        "  total_loss = real_loss + fake_loss\n",
        "  return total_loss"
      ]
    },
    {
      "cell_type": "markdown",
      "metadata": {
        "id": "a-q7Gx6ZibCF"
      },
      "source": [
        "# Generator Loss"
      ]
    },
    {
      "cell_type": "code",
      "execution_count": null,
      "metadata": {
        "id": "qhW46E7IiY3J"
      },
      "outputs": [],
      "source": [
        "def generator_loss(fake_output):\n",
        "  return binary_crossEntropy(tf.ones_like(fake_output), fake_output)"
      ]
    },
    {
      "cell_type": "markdown",
      "metadata": {
        "id": "RdD7PyMbjYkJ"
      },
      "source": [
        "# Different Optimizers for Generator and Discriminator"
      ]
    },
    {
      "cell_type": "code",
      "execution_count": null,
      "metadata": {
        "id": "rmoM2xCLjX1V"
      },
      "outputs": [],
      "source": [
        "generator_optimizer = keras.optimizers.adam_v2.Adam(learning_rate=1e-4)\n",
        "discriminator_optimizer = keras.optimizers.adam_v2.Adam(learning_rate=1e-4)"
      ]
    },
    {
      "cell_type": "markdown",
      "metadata": {
        "id": "NMrS-ueUqYoZ"
      },
      "source": [
        "# Train Function"
      ]
    },
    {
      "cell_type": "code",
      "execution_count": null,
      "metadata": {
        "id": "i4wDIgoxsNf8"
      },
      "outputs": [],
      "source": [
        "EPOCS = 50\n",
        "noise_dim = 100\n",
        "num_examples_to_generate = 16\n",
        "\n",
        "# seed value \n",
        "seed = tf.random.normal([num_examples_to_generate, noise_dim])\n"
      ]
    },
    {
      "cell_type": "code",
      "execution_count": null,
      "metadata": {
        "id": "xse7y_EFszDX"
      },
      "outputs": [],
      "source": [
        "# annotation creates and compiles a tensorflow graph from the function\n",
        "@tf.function\n",
        "def train_step(images):\n",
        "  noise = tf.random.normal([BATCH_SIZE, noise_dim])\n",
        "\n",
        "  with tf.GradientTape() as gen_tape, tf.GradientTape() as disc_tape:\n",
        "    generated_images = generator(noise, training=True)\n",
        "\n",
        "    real_output = discriminator(images, training=True)\n",
        "    fake_output = discriminator(generated_images, training=True)\n",
        "    \n",
        "    gen_loss = generator_loss(fake_output)\n",
        "    disc_loss = discriminator_loss(real_output, fake_output)\n",
        "  \n",
        "  # generate the gradients for the geneartor and discriminator with respect to the weights\n",
        "  gradients_of_generator = gen_tape.gradient(gen_loss, generator.trainable_variables)\n",
        "  gradients_of_discriminator = disc_tape.gradient(disc_loss, discriminator.trainable_variables)\n",
        "\n",
        "  # backpropogate the gradients and perform gradient descent using Adam on the weights\n",
        "  generator_optimizer.apply_gradients(zip(gradients_of_generator, generator.trainable_variables))\n",
        "  discriminator_optimizer.apply_gradients(zip(gradients_of_discriminator, discriminator.trainable_variables))\n"
      ]
    },
    {
      "cell_type": "code",
      "execution_count": null,
      "metadata": {
        "id": "HEoI5Z4avBtU"
      },
      "outputs": [],
      "source": [
        "def train(dataset, epochs):\n",
        "  for epoch in range(epochs):\n",
        "    start = time.time()\n",
        "\n",
        "    for image_batch, _ in normalized_ds:\n",
        "      train_step(image_batch)\n",
        "    \n",
        "    # Produce images for the GIF as you go\n",
        "    display.clear_output(wait=True)\n",
        "    generate_and_save_images(generator,\n",
        "                             epoch + 1,\n",
        "                             seed)\n",
        "    print('Time for epoch {} is {} sec'.format(epoch + 1, time.time()-start))\n",
        "\n",
        "  # Generate after the final epoch\n",
        "  display.clear_output(wait=True)\n",
        "  generate_and_save_images(generator,\n",
        "                           epochs,\n",
        "                           seed)"
      ]
    },
    {
      "cell_type": "markdown",
      "metadata": {
        "id": "qVghG2FZuCoi"
      },
      "source": [
        "# Plot Generated Images"
      ]
    },
    {
      "cell_type": "code",
      "execution_count": null,
      "metadata": {
        "id": "KlIU-xW3uA4I"
      },
      "outputs": [],
      "source": [
        "def generate_and_save_images(model, epoch, test_input):\n",
        "  # Notice `training` is set to False.\n",
        "  # This is so all layers run in inference mode (batchnorm).\n",
        "  predictions = model(test_input, training=False)\n",
        "\n",
        "  fig = plt.figure(figsize=(4, 4))\n",
        "\n",
        "  for i in range(predictions.shape[0]):\n",
        "      plt.subplot(4, 4, i+1)\n",
        "      plt.imshow(predictions[i, :, :, 0] * 127.5 + 127.5, cmap='gray')\n",
        "      plt.axis('off')\n",
        "\n",
        "  plt.savefig('image_at_epoch_{:04d}.png'.format(epoch))\n",
        "  plt.show()"
      ]
    },
    {
      "cell_type": "markdown",
      "metadata": {
        "id": "Z6Ni9LlavShY"
      },
      "source": [
        "# Train Model"
      ]
    },
    {
      "cell_type": "code",
      "execution_count": null,
      "metadata": {
        "colab": {
          "background_save": true,
          "base_uri": "https://localhost:8080/",
          "height": 248
        },
        "id": "4_ZFnAmrvQ48",
        "outputId": "13d5c213-5fdd-4604-cd1e-8e4b7488db2c"
      },
      "outputs": [
        {
          "data": {
            "image/png": "[encoded data removed]",
            "text/plain": [
              "<Figure size 288x288 with 16 Axes>"
            ]
          },
          "metadata": {},
          "output_type": "display_data"
        },
        {
          "name": "stdout",
          "output_type": "stream",
          "text": [
            "Time for epoch 14 is 741.3752942085266 sec\n"
          ]
        }
      ],
      "source": [
        "train(train_dataset, EPOCS)"
      ]
    }
  ],
  "metadata": {
    "accelerator": "GPU",
    "colab": {
      "collapsed_sections": [],
      "machine_shape": "hm",
      "name": "DCGAN_on_Face.ipynb",
      "provenance": [],
      "mount_file_id": "1r3UupU4yhtsgVIpEZKpTfN_1KCKjNI4-",
      "authorship_tag": "ABX9TyPKuvfR84Uwa8vJ/eGya76Z",
      "include_colab_link": true
    },
    "kernelspec": {
      "display_name": "Python 3",
      "name": "python3"
    },
    "language_info": {
      "name": "python"
    }
  },
  "nbformat": 4,
  "nbformat_minor": 0
}